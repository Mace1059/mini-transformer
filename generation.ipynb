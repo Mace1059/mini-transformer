{
 "cells": [
  {
   "cell_type": "code",
   "execution_count": null,
   "id": "7eb3a95a",
   "metadata": {},
   "outputs": [],
   "source": [
    "from src.improvements import *\n",
    "\n",
    "context = torch.zeros((1,1), dtype=torch.long, device=device)\n",
    "print(decode(m.generate(context, max_new_tokens=500)[0].tolist()))"
   ]
  }
 ],
 "metadata": {
  "language_info": {
   "name": "python"
  }
 },
 "nbformat": 4,
 "nbformat_minor": 5
}
